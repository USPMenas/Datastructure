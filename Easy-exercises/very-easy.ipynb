{
 "cells": [
  {
   "cell_type": "code",
   "execution_count": 22,
   "metadata": {},
   "outputs": [],
   "source": [
    "# Given 2 arrays, create a function that let's a user know (true/false)\n",
    "# whether these two arrays contain any common items\n",
    "\n",
    "import time\n",
    "\n",
    "array1 = ['a', 'b', 'c', 'x']\n",
    "array2 = ['z', 'y', 'i']\n",
    "array3 = ['z', 'y', 'x']"
   ]
  },
  {
   "cell_type": "code",
   "execution_count": null,
   "metadata": {},
   "outputs": [],
   "source": [
    "def compare_arrays(array1, array2):\n",
    "    start_time = time.time()\n",
    "    for (index1, item1) in enumerate(array1):\n",
    "        for (index2, item2) in enumerate(array2):\n",
    "            if array1[index1] == array2[index2]:\n",
    "                end_time = time.time()\n",
    "                print(f\"Execution time: {end_time - start_time:.6f} seconds\")\n",
    "                return True\n",
    "    end_time = time.time()\n",
    "    print(f\"Execution time: {end_time - start_time:.6f} seconds\")\n",
    "    return False"
   ]
  },
  {
   "cell_type": "code",
   "execution_count": 24,
   "metadata": {},
   "outputs": [
    {
     "name": "stdout",
     "output_type": "stream",
     "text": [
      "False\n",
      "Execution time: 0.000002 seconds\n",
      "True\n"
     ]
    }
   ],
   "source": [
    "print(compare_arrays(array1, array2))\n",
    "print(compare_arrays(array1, array3))"
   ]
  },
  {
   "cell_type": "code",
   "execution_count": null,
   "metadata": {},
   "outputs": [],
   "source": [
    "# Reducing complexity\n",
    "array1 = {\n",
    "    \"a\": True,\n",
    "    \"b\": True,\n",
    "    \"c\": True,\n",
    "    \"x\": True\n",
    "}\n",
    "\n",
    "def compare_data(array1, array2):\n",
    "    start_time = time.time()\n",
    "    for (index, value) in enumerate(array2):\n",
    "        if value in array1:\n",
    "            end_time = time.time()\n",
    "            print(f\"Execution time: {end_time - start_time:.6f} seconds\")\n",
    "            return True\n",
    "    end_time = time.time()\n",
    "    print(f\"Execution time: {end_time - start_time:.6f} seconds\")\n",
    "    return False"
   ]
  },
  {
   "cell_type": "code",
   "execution_count": 26,
   "metadata": {},
   "outputs": [
    {
     "name": "stdout",
     "output_type": "stream",
     "text": [
      "False\n",
      "Execution time: 0.000002 seconds\n",
      "True\n"
     ]
    }
   ],
   "source": [
    "print(compare_data(array1, array2))\n",
    "print(compare_data(array1, array3))"
   ]
  }
 ],
 "metadata": {
  "kernelspec": {
   "display_name": "Python 3",
   "language": "python",
   "name": "python3"
  },
  "language_info": {
   "codemirror_mode": {
    "name": "ipython",
    "version": 3
   },
   "file_extension": ".py",
   "mimetype": "text/x-python",
   "name": "python",
   "nbconvert_exporter": "python",
   "pygments_lexer": "ipython3",
   "version": "3.12.1"
  }
 },
 "nbformat": 4,
 "nbformat_minor": 2
}
